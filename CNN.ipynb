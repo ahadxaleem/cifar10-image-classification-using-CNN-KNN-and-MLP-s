{
  "nbformat": 4,
  "nbformat_minor": 0,
  "metadata": {
    "colab": {
      "name": "CNN.ipynb",
      "provenance": [],
      "collapsed_sections": []
    },
    "kernelspec": {
      "name": "python3",
      "display_name": "Python 3"
    },
    "language_info": {
      "name": "python"
    }
  },
  "cells": [
    {
      "cell_type": "code",
      "execution_count": 2,
      "metadata": {
        "id": "nsVlA9N-11yo"
      },
      "outputs": [],
      "source": [
        "import tensorflow as tf\n",
        "import matplotlib.pyplot as plt\n",
        "import numpy as np\n",
        "from tensorflow import keras\n",
        "from tensorflow.keras import datasets, layers, models\n",
        "from keras.datasets import cifar10\n",
        "from sklearn.metrics import confusion_matrix,classification_report\n"
      ]
    },
    {
      "cell_type": "code",
      "source": [
        "(train_fx, train_fy), (test_fx, test_fy) = cifar10.load_data()"
      ],
      "metadata": {
        "colab": {
          "base_uri": "https://localhost:8080/"
        },
        "id": "QzqPnUDt2AzV",
        "outputId": "dee4aeb6-b80c-4cd0-d99d-3c60aaa99b1e"
      },
      "execution_count": 3,
      "outputs": [
        {
          "output_type": "stream",
          "name": "stdout",
          "text": [
            "Downloading data from https://www.cs.toronto.edu/~kriz/cifar-10-python.tar.gz\n",
            "170500096/170498071 [==============================] - 2s 0us/step\n",
            "170508288/170498071 [==============================] - 2s 0us/step\n"
          ]
        }
      ]
    },
    {
      "cell_type": "code",
      "source": [
        "print(train_fx.shape, train_fy.shape, test_fx.shape, test_fy.shape)"
      ],
      "metadata": {
        "colab": {
          "base_uri": "https://localhost:8080/"
        },
        "id": "Oo-2_A5C2IP0",
        "outputId": "74ad0ed2-e422-47ce-c9f1-5ef12453838d"
      },
      "execution_count": 4,
      "outputs": [
        {
          "output_type": "stream",
          "name": "stdout",
          "text": [
            "(50000, 32, 32, 3) (50000, 1) (10000, 32, 32, 3) (10000, 1)\n"
          ]
        }
      ]
    },
    {
      "cell_type": "code",
      "source": [
        "# Reduce pixel values\n",
        "train_fx, test_fx = train_fx / 255.0, test_fx / 255.0"
      ],
      "metadata": {
        "id": "-96rsXLq2kC6"
      },
      "execution_count": 5,
      "outputs": []
    },
    {
      "cell_type": "code",
      "source": [
        "# flatten the label values\n",
        "# train_fy, test_fy = train_fy.flatten(), test_fy.flatten()"
      ],
      "metadata": {
        "id": "lOA6IsIR540g"
      },
      "execution_count": 6,
      "outputs": []
    },
    {
      "cell_type": "code",
      "source": [
        "cnn = models.Sequential([\n",
        "                         layers.Conv2D(filters=32, kernel_size=(3,3), activation='relu', input_shape=(32,32,3)),\n",
        "                         layers.MaxPooling2D((2,2)),\n",
        "\n",
        "                         layers.Conv2D(filters=32, kernel_size=(3,3), activation='relu', input_shape=(32,32,3)),\n",
        "                         layers.MaxPooling2D((2,2)),\n",
        "\n",
        "                         layers.Flatten(),\n",
        "                         layers.Dense(64, activation='relu'),\n",
        "                         layers.Dense(10, activation='softmax')\n",
        "])"
      ],
      "metadata": {
        "id": "6M6EONGG76P4"
      },
      "execution_count": 7,
      "outputs": []
    },
    {
      "cell_type": "code",
      "source": [
        "cnn.compile(optimizer='adam', loss='sparse_categorical_crossentropy', metrics=['accuracy'])"
      ],
      "metadata": {
        "id": "ZPCn6uZa-Y4a"
      },
      "execution_count": 8,
      "outputs": []
    },
    {
      "cell_type": "code",
      "source": [
        "# Fit\n",
        "history = cnn.fit(train_fx, train_fy, epochs=5, validation_data = (test_fx, test_fy))"
      ],
      "metadata": {
        "colab": {
          "base_uri": "https://localhost:8080/"
        },
        "id": "j5hDtN9u_odh",
        "outputId": "f37a1b8a-946b-438b-8452-5152d2a22108"
      },
      "execution_count": 16,
      "outputs": [
        {
          "output_type": "stream",
          "name": "stdout",
          "text": [
            "Epoch 1/20\n",
            "1563/1563 [==============================] - 56s 36ms/step - loss: 0.8701 - accuracy: 0.6963 - val_loss: 0.9603 - val_accuracy: 0.6686\n",
            "Epoch 2/20\n",
            "1563/1563 [==============================] - 55s 35ms/step - loss: 0.8291 - accuracy: 0.7105 - val_loss: 0.9233 - val_accuracy: 0.6872\n",
            "Epoch 3/20\n",
            "1563/1563 [==============================] - 56s 36ms/step - loss: 0.7993 - accuracy: 0.7207 - val_loss: 0.9162 - val_accuracy: 0.6918\n",
            "Epoch 4/20\n",
            "1563/1563 [==============================] - 55s 35ms/step - loss: 0.7685 - accuracy: 0.7315 - val_loss: 0.9181 - val_accuracy: 0.6886\n",
            "Epoch 5/20\n",
            "1563/1563 [==============================] - 55s 35ms/step - loss: 0.7440 - accuracy: 0.7403 - val_loss: 0.9090 - val_accuracy: 0.6902\n",
            "Epoch 6/20\n",
            "1563/1563 [==============================] - 56s 36ms/step - loss: 0.7212 - accuracy: 0.7484 - val_loss: 0.9081 - val_accuracy: 0.6926\n",
            "Epoch 7/20\n",
            "1563/1563 [==============================] - 56s 36ms/step - loss: 0.6956 - accuracy: 0.7568 - val_loss: 0.9055 - val_accuracy: 0.6966\n",
            "Epoch 8/20\n",
            "1563/1563 [==============================] - 56s 36ms/step - loss: 0.6737 - accuracy: 0.7638 - val_loss: 0.9092 - val_accuracy: 0.6936\n",
            "Epoch 9/20\n",
            "1563/1563 [==============================] - 55s 35ms/step - loss: 0.6537 - accuracy: 0.7715 - val_loss: 0.9082 - val_accuracy: 0.7015\n",
            "Epoch 10/20\n",
            "1563/1563 [==============================] - 55s 35ms/step - loss: 0.6332 - accuracy: 0.7803 - val_loss: 0.9437 - val_accuracy: 0.6935\n",
            "Epoch 11/20\n",
            "1563/1563 [==============================] - 55s 35ms/step - loss: 0.6161 - accuracy: 0.7828 - val_loss: 0.9625 - val_accuracy: 0.6852\n",
            "Epoch 12/20\n",
            "1563/1563 [==============================] - 55s 35ms/step - loss: 0.6016 - accuracy: 0.7862 - val_loss: 0.9626 - val_accuracy: 0.6928\n",
            "Epoch 13/20\n",
            "1563/1563 [==============================] - 55s 35ms/step - loss: 0.5863 - accuracy: 0.7932 - val_loss: 0.9320 - val_accuracy: 0.7031\n",
            "Epoch 14/20\n",
            "1563/1563 [==============================] - 55s 35ms/step - loss: 0.5670 - accuracy: 0.7981 - val_loss: 0.9616 - val_accuracy: 0.7030\n",
            "Epoch 15/20\n",
            "1563/1563 [==============================] - 55s 35ms/step - loss: 0.5553 - accuracy: 0.8024 - val_loss: 0.9795 - val_accuracy: 0.6998\n",
            "Epoch 16/20\n",
            "1563/1563 [==============================] - 54s 35ms/step - loss: 0.5427 - accuracy: 0.8094 - val_loss: 0.9637 - val_accuracy: 0.7004\n",
            "Epoch 17/20\n",
            "1563/1563 [==============================] - 54s 34ms/step - loss: 0.5237 - accuracy: 0.8143 - val_loss: 0.9969 - val_accuracy: 0.6884\n",
            "Epoch 18/20\n",
            "1563/1563 [==============================] - 54s 34ms/step - loss: 0.5119 - accuracy: 0.8180 - val_loss: 1.0178 - val_accuracy: 0.6872\n",
            "Epoch 19/20\n",
            "1563/1563 [==============================] - 55s 35ms/step - loss: 0.4976 - accuracy: 0.8234 - val_loss: 1.0366 - val_accuracy: 0.6913\n",
            "Epoch 20/20\n",
            "1563/1563 [==============================] - 55s 35ms/step - loss: 0.4860 - accuracy: 0.8283 - val_loss: 1.0325 - val_accuracy: 0.6974\n"
          ]
        }
      ]
    },
    {
      "cell_type": "code",
      "source": [
        "cnn.evaluate(test_fx, test_fy)"
      ],
      "metadata": {
        "colab": {
          "base_uri": "https://localhost:8080/"
        },
        "id": "8QPvlw63An2t",
        "outputId": "d9f15fab-a248-43bd-db03-ab89f3e1400f"
      },
      "execution_count": 17,
      "outputs": [
        {
          "output_type": "stream",
          "name": "stdout",
          "text": [
            "313/313 [==============================] - 3s 11ms/step - loss: 1.0325 - accuracy: 0.6974\n"
          ]
        },
        {
          "output_type": "execute_result",
          "data": {
            "text/plain": [
              "[1.0325065851211548, 0.6973999738693237]"
            ]
          },
          "metadata": {},
          "execution_count": 17
        }
      ]
    },
    {
      "cell_type": "code",
      "source": [
        "pred_y = cnn.predict(test_fx)\n",
        "pred_y_r = [np.argmax(element) for element in pred_y]"
      ],
      "metadata": {
        "id": "FWhmRIN8EWYN"
      },
      "execution_count": 18,
      "outputs": []
    },
    {
      "cell_type": "code",
      "source": [
        "confusion = confusion_matrix(y_true=test_fy, y_pred=pred_y_r)\n",
        "confusion"
      ],
      "metadata": {
        "colab": {
          "base_uri": "https://localhost:8080/"
        },
        "id": "Di1kErfROZ4D",
        "outputId": "c9618873-6ddf-46bc-b2c1-638ddaba7b3d"
      },
      "execution_count": 19,
      "outputs": [
        {
          "output_type": "execute_result",
          "data": {
            "text/plain": [
              "array([[749,  34,  49,  27,  15,   9,   8,  13,  55,  41],\n",
              "       [ 23, 848,   7,   6,   7,   6,   5,   5,  21,  72],\n",
              "       [ 71,   6, 564,  75,  93,  72,  47,  44,  15,  13],\n",
              "       [ 39,  21,  64, 521,  73, 168,  42,  39,  15,  18],\n",
              "       [ 19,   7,  78,  86, 647,  39,  25,  75,  14,  10],\n",
              "       [ 14,   9,  45, 191,  42, 616,   9,  59,   7,   8],\n",
              "       [  6,  11,  57,  80,  55,  30, 720,  11,  14,  16],\n",
              "       [ 22,   7,  34,  50,  55,  62,   4, 750,   5,  11],\n",
              "       [ 73,  39,  20,  25,   9,   6,   5,   8, 773,  42],\n",
              "       [ 36,  94,   5,  17,   5,   4,   3,  20,  30, 786]])"
            ]
          },
          "metadata": {},
          "execution_count": 19
        }
      ]
    },
    {
      "cell_type": "code",
      "source": [
        "classification = classification_report(test_fy,pred_y_r)\n",
        "print(classification)"
      ],
      "metadata": {
        "colab": {
          "base_uri": "https://localhost:8080/"
        },
        "id": "upDdBRHRPfUo",
        "outputId": "4fadad9d-8e98-42e5-e4e0-d774d2dba01b"
      },
      "execution_count": 20,
      "outputs": [
        {
          "output_type": "stream",
          "name": "stdout",
          "text": [
            "              precision    recall  f1-score   support\n",
            "\n",
            "           0       0.71      0.75      0.73      1000\n",
            "           1       0.79      0.85      0.82      1000\n",
            "           2       0.61      0.56      0.59      1000\n",
            "           3       0.48      0.52      0.50      1000\n",
            "           4       0.65      0.65      0.65      1000\n",
            "           5       0.61      0.62      0.61      1000\n",
            "           6       0.83      0.72      0.77      1000\n",
            "           7       0.73      0.75      0.74      1000\n",
            "           8       0.81      0.77      0.79      1000\n",
            "           9       0.77      0.79      0.78      1000\n",
            "\n",
            "    accuracy                           0.70     10000\n",
            "   macro avg       0.70      0.70      0.70     10000\n",
            "weighted avg       0.70      0.70      0.70     10000\n",
            "\n"
          ]
        }
      ]
    },
    {
      "cell_type": "code",
      "source": [
        "loss_train = history.history['accuracy']\n",
        "loss_val = history.history['val_accuracy']\n",
        "epochs = range(1,6)\n",
        "plt.plot(epochs, loss_train, 'g', label='Training accuracy')\n",
        "plt.plot(epochs, loss_val, 'b', label='Validation accuracy')\n",
        "plt.title('Training and Validation accuracy')\n",
        "plt.xlabel('Epochs')\n",
        "plt.ylabel('Accuracy')\n",
        "plt.legend()\n",
        "plt.show()"
      ],
      "metadata": {
        "colab": {
          "base_uri": "https://localhost:8080/",
          "height": 279
        },
        "id": "2AlyPLiiYCgM",
        "outputId": "3f024fb1-561d-48a4-f480-de32f480e113"
      },
      "execution_count": 23,
      "outputs": [
        {
          "output_type": "display_data",
          "data": {
            "text/plain": [
              "<Figure size 432x288 with 1 Axes>"
            ],
            "image/png": "[encoded data removed]"
          },
          "metadata": {
            "needs_background": "light"
          }
        }
      ]
    },
    {
      "cell_type": "code",
      "source": [
        "print(history.history.keys())"
      ],
      "metadata": {
        "colab": {
          "base_uri": "https://localhost:8080/"
        },
        "id": "woCteTHJSLeL",
        "outputId": "ea3c8e76-913a-4928-ceca-67078de0610a"
      },
      "execution_count": 17,
      "outputs": [
        {
          "output_type": "stream",
          "name": "stdout",
          "text": [
            "dict_keys(['loss', 'accuracy'])\n"
          ]
        }
      ]
    },
    {
      "cell_type": "code",
      "source": [
        ""
      ],
      "metadata": {
        "id": "S4DsmHuJS2ag"
      },
      "execution_count": 34,
      "outputs": []
    }
  ]
}