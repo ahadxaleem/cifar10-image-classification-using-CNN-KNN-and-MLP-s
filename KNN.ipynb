{
  "nbformat": 4,
  "nbformat_minor": 0,
  "metadata": {
    "colab": {
      "name": "KNN.ipynb",
      "provenance": [],
      "collapsed_sections": []
    },
    "kernelspec": {
      "name": "python3",
      "display_name": "Python 3"
    },
    "language_info": {
      "name": "python"
    }
  },
  "cells": [
    {
      "cell_type": "code",
      "execution_count": 1,
      "metadata": {
        "id": "1wDqdoW-kShE"
      },
      "outputs": [],
      "source": [
        "import tensorflow as tf\n",
        "import matplotlib.pyplot as plt\n",
        "import numpy as np\n",
        "from tensorflow import keras\n",
        "from keras.datasets import cifar10\n",
        "from sklearn.metrics import confusion_matrix,classification_report\n",
        "from sklearn.neighbors import KNeighborsClassifier"
      ]
    },
    {
      "cell_type": "code",
      "source": [
        "(train_fx, train_fy), (test_fx, test_fy) = cifar10.load_data()"
      ],
      "metadata": {
        "colab": {
          "base_uri": "https://localhost:8080/"
        },
        "id": "vMzYGtaLnEaA",
        "outputId": "5526ee6f-121b-44ff-f119-49cf3865ad5a"
      },
      "execution_count": 2,
      "outputs": [
        {
          "output_type": "stream",
          "name": "stdout",
          "text": [
            "Downloading data from https://www.cs.toronto.edu/~kriz/cifar-10-python.tar.gz\n",
            "170500096/170498071 [==============================] - 4s 0us/step\n",
            "170508288/170498071 [==============================] - 4s 0us/step\n"
          ]
        }
      ]
    },
    {
      "cell_type": "code",
      "source": [
        "#reshaping data so it can be used to train knn\n",
        "train_fx = train_fx.reshape(50000,32*32*3)\n",
        "test_fx = test_fx.reshape(10000,32*32*3)\n",
        "train_fy, test_fy = train_fy.flatten(), test_fy.flatten()"
      ],
      "metadata": {
        "id": "GRUM_6NAoRTR"
      },
      "execution_count": 3,
      "outputs": []
    },
    {
      "cell_type": "code",
      "source": [
        "knn = KNeighborsClassifier(n_neighbors=3)"
      ],
      "metadata": {
        "id": "m4RhJ79lnM60"
      },
      "execution_count": 4,
      "outputs": []
    },
    {
      "cell_type": "code",
      "source": [
        "#traing knn\n",
        "history = knn.fit(train_fx, train_fy)"
      ],
      "metadata": {
        "id": "UfXpQhbnnbh-"
      },
      "execution_count": 5,
      "outputs": []
    },
    {
      "cell_type": "code",
      "source": [
        "#making predictions\n",
        "pred_y = knn.predict(test_fx)\n",
        "# pred_y_r = [np.argmax(element) for element in pred_y]"
      ],
      "metadata": {
        "id": "qDhKRI1Bnl79"
      },
      "execution_count": 6,
      "outputs": []
    },
    {
      "cell_type": "code",
      "source": [
        "#getting the confusion matrix\n",
        "confusion = confusion_matrix(y_true=test_fy, y_pred=pred_y)\n",
        "confusion"
      ],
      "metadata": {
        "colab": {
          "base_uri": "https://localhost:8080/"
        },
        "id": "9k3SfY-Bunms",
        "outputId": "26782351-5a89-4f47-f88e-e22913f7940d"
      },
      "execution_count": 7,
      "outputs": [
        {
          "output_type": "execute_result",
          "data": {
            "text/plain": [
              "array([[573,   9, 109,  19,  48,   6,  22,   5, 204,   5],\n",
              "       [196, 243, 125,  61, 113,  29,  37,   6, 168,  22],\n",
              "       [156,   7, 450,  54, 197,  30,  59,   7,  39,   1],\n",
              "       [102,  11, 281, 225, 147,  91,  89,  14,  33,   7],\n",
              "       [104,   5, 291,  55, 436,  21,  36,  12,  40,   0],\n",
              "       [100,   5, 249, 172, 144, 213,  68,  11,  34,   4],\n",
              "       [ 49,   5, 327,  89, 252,  27, 229,   2,  20,   0],\n",
              "       [131,  20, 217,  73, 235,  38,  41, 199,  44,   2],\n",
              "       [183,  30,  52,  42,  51,  14,   9,   3, 612,   4],\n",
              "       [193,  87, 128,  76, 110,  27,  43,  13, 200, 123]])"
            ]
          },
          "metadata": {},
          "execution_count": 7
        }
      ]
    },
    {
      "cell_type": "code",
      "source": [
        "#getting performance report\n",
        "classification = classification_report(test_fy,pred_y)\n",
        "print(classification)"
      ],
      "metadata": {
        "colab": {
          "base_uri": "https://localhost:8080/"
        },
        "id": "BTIO2Rr-vHPY",
        "outputId": "4ce6944e-a06c-4c19-aa6e-c502997bc5b3"
      },
      "execution_count": 8,
      "outputs": [
        {
          "output_type": "stream",
          "name": "stdout",
          "text": [
            "              precision    recall  f1-score   support\n",
            "\n",
            "           0       0.32      0.57      0.41      1000\n",
            "           1       0.58      0.24      0.34      1000\n",
            "           2       0.20      0.45      0.28      1000\n",
            "           3       0.26      0.23      0.24      1000\n",
            "           4       0.25      0.44      0.32      1000\n",
            "           5       0.43      0.21      0.28      1000\n",
            "           6       0.36      0.23      0.28      1000\n",
            "           7       0.73      0.20      0.31      1000\n",
            "           8       0.44      0.61      0.51      1000\n",
            "           9       0.73      0.12      0.21      1000\n",
            "\n",
            "    accuracy                           0.33     10000\n",
            "   macro avg       0.43      0.33      0.32     10000\n",
            "weighted avg       0.43      0.33      0.32     10000\n",
            "\n"
          ]
        }
      ]
    },
    {
      "cell_type": "code",
      "source": [
        ""
      ],
      "metadata": {
        "id": "LMMTXxNZRwTy"
      },
      "execution_count": null,
      "outputs": []
    }
  ]
}