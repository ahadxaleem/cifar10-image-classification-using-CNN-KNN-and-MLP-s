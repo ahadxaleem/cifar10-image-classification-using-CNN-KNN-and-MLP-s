{
  "nbformat": 4,
  "nbformat_minor": 0,
  "metadata": {
    "colab": {
      "name": "MLP.ipynb",
      "provenance": [],
      "collapsed_sections": []
    },
    "kernelspec": {
      "name": "python3",
      "display_name": "Python 3"
    },
    "language_info": {
      "name": "python"
    }
  },
  "cells": [
    {
      "cell_type": "code",
      "execution_count": null,
      "metadata": {
        "id": "OC8cB6qC0xdf"
      },
      "outputs": [],
      "source": [
        "import tensorflow as tf\n",
        "import matplotlib.pyplot as plt\n",
        "import numpy as np\n",
        "from tensorflow import keras\n",
        "from tensorflow.keras import datasets, layers, models\n",
        "from keras.datasets import cifar10\n",
        "from sklearn.metrics import confusion_matrix,classification_report"
      ]
    },
    {
      "cell_type": "code",
      "source": [
        "(train_fx, train_fy), (test_fx, test_fy) = cifar10.load_data()"
      ],
      "metadata": {
        "colab": {
          "base_uri": "https://localhost:8080/"
        },
        "id": "1Lfe0A6G0zAx",
        "outputId": "d4c8ba97-c3cd-4457-bef8-54ee41077c8f"
      },
      "execution_count": null,
      "outputs": [
        {
          "output_type": "stream",
          "name": "stdout",
          "text": [
            "Downloading data from https://www.cs.toronto.edu/~kriz/cifar-10-python.tar.gz\n",
            "170500096/170498071 [==============================] - 2s 0us/step\n",
            "170508288/170498071 [==============================] - 2s 0us/step\n"
          ]
        }
      ]
    },
    {
      "cell_type": "code",
      "source": [
        "print(train_fx.shape, train_fy.shape, test_fx.shape, test_fy.shape)"
      ],
      "metadata": {
        "colab": {
          "base_uri": "https://localhost:8080/"
        },
        "id": "mSoR8rtG07oa",
        "outputId": "ee14eccc-01c3-4942-82de-245ec753dd4d"
      },
      "execution_count": null,
      "outputs": [
        {
          "output_type": "stream",
          "name": "stdout",
          "text": [
            "(50000, 32, 32, 3) (50000, 1) (10000, 32, 32, 3) (10000, 1)\n"
          ]
        }
      ]
    },
    {
      "cell_type": "code",
      "source": [
        "# Reduce pixel values\n",
        "train_fx, test_fx = train_fx / 255.0, test_fx / 255.0"
      ],
      "metadata": {
        "id": "6MgXnUwc0_H5"
      },
      "execution_count": null,
      "outputs": []
    },
    {
      "cell_type": "code",
      "source": [
        "mlp = models.Sequential([\n",
        "                         layers.Flatten(input_shape=(32,32,3)),\n",
        "                         layers.Dense(3000, activation='relu'),\n",
        "                         layers.Dense(3000, activation='relu'),\n",
        "                         layers.Dense(10, activation='sigmoid')\n",
        "])"
      ],
      "metadata": {
        "id": "m57gigv11DYc"
      },
      "execution_count": null,
      "outputs": []
    },
    {
      "cell_type": "code",
      "source": [
        "mlp.compile(optimizer='SGD', loss='sparse_categorical_crossentropy', metrics=['accuracy'])"
      ],
      "metadata": {
        "id": "Ys_2benS1HlF"
      },
      "execution_count": null,
      "outputs": []
    },
    {
      "cell_type": "code",
      "source": [
        "# Fit\n",
        "history = mlp.fit(train_fx, train_fy, epochs=5, validation_data = (test_fx, test_fy))"
      ],
      "metadata": {
        "colab": {
          "base_uri": "https://localhost:8080/"
        },
        "id": "eiTVH0jx1Nsp",
        "outputId": "9e45cc24-d52c-4aa3-803a-487c2a382e1b"
      },
      "execution_count": null,
      "outputs": [
        {
          "output_type": "stream",
          "name": "stdout",
          "text": [
            "Epoch 1/20\n",
            "1563/1563 [==============================] - 175s 112ms/step - loss: 1.8071 - accuracy: 0.3563 - val_loss: 1.6966 - val_accuracy: 0.3900\n",
            "Epoch 2/20\n",
            "1563/1563 [==============================] - 173s 111ms/step - loss: 1.6182 - accuracy: 0.4304 - val_loss: 1.6069 - val_accuracy: 0.4270\n",
            "Epoch 3/20\n",
            "1563/1563 [==============================] - 174s 111ms/step - loss: 1.5363 - accuracy: 0.4578 - val_loss: 1.5711 - val_accuracy: 0.4513\n",
            "Epoch 4/20\n",
            "1563/1563 [==============================] - 174s 111ms/step - loss: 1.4766 - accuracy: 0.4788 - val_loss: 1.5058 - val_accuracy: 0.4564\n",
            "Epoch 5/20\n",
            "1563/1563 [==============================] - 170s 109ms/step - loss: 1.4254 - accuracy: 0.5008 - val_loss: 1.4730 - val_accuracy: 0.4759\n",
            "Epoch 6/20\n",
            "1563/1563 [==============================] - 173s 111ms/step - loss: 1.3827 - accuracy: 0.5149 - val_loss: 1.5306 - val_accuracy: 0.4396\n",
            "Epoch 7/20\n",
            "1563/1563 [==============================] - 173s 111ms/step - loss: 1.3447 - accuracy: 0.5294 - val_loss: 1.4319 - val_accuracy: 0.4807\n",
            "Epoch 8/20\n",
            "1563/1563 [==============================] - 173s 111ms/step - loss: 1.3085 - accuracy: 0.5413 - val_loss: 1.4502 - val_accuracy: 0.4741\n",
            "Epoch 9/20\n",
            "1563/1563 [==============================] - 176s 113ms/step - loss: 1.2748 - accuracy: 0.5540 - val_loss: 1.3820 - val_accuracy: 0.5113\n",
            "Epoch 10/20\n",
            "1563/1563 [==============================] - 175s 112ms/step - loss: 1.2457 - accuracy: 0.5635 - val_loss: 1.3468 - val_accuracy: 0.5241\n",
            "Epoch 11/20\n",
            "1563/1563 [==============================] - 176s 112ms/step - loss: 1.2139 - accuracy: 0.5761 - val_loss: 1.4134 - val_accuracy: 0.4982\n",
            "Epoch 12/20\n",
            "1563/1563 [==============================] - 182s 116ms/step - loss: 1.1841 - accuracy: 0.5866 - val_loss: 1.3552 - val_accuracy: 0.5159\n",
            "Epoch 13/20\n",
            "1563/1563 [==============================] - 181s 116ms/step - loss: 1.1602 - accuracy: 0.5967 - val_loss: 1.3980 - val_accuracy: 0.5060\n",
            "Epoch 14/20\n",
            "1563/1563 [==============================] - 182s 116ms/step - loss: 1.1269 - accuracy: 0.6077 - val_loss: 1.3419 - val_accuracy: 0.5303\n",
            "Epoch 15/20\n",
            "1563/1563 [==============================] - 179s 114ms/step - loss: 1.1018 - accuracy: 0.6174 - val_loss: 1.3275 - val_accuracy: 0.5307\n",
            "Epoch 16/20\n",
            "1563/1563 [==============================] - 181s 116ms/step - loss: 1.0723 - accuracy: 0.6293 - val_loss: 1.3366 - val_accuracy: 0.5245\n",
            "Epoch 17/20\n",
            "1563/1563 [==============================] - 178s 114ms/step - loss: 1.0467 - accuracy: 0.6364 - val_loss: 1.4331 - val_accuracy: 0.4975\n",
            "Epoch 18/20\n",
            "1563/1563 [==============================] - 179s 114ms/step - loss: 1.0182 - accuracy: 0.6475 - val_loss: 1.4550 - val_accuracy: 0.4867\n",
            "Epoch 19/20\n",
            "1563/1563 [==============================] - 176s 113ms/step - loss: 0.9948 - accuracy: 0.6566 - val_loss: 1.3366 - val_accuracy: 0.5295\n",
            "Epoch 20/20\n",
            "1563/1563 [==============================] - 180s 115ms/step - loss: 0.9655 - accuracy: 0.6679 - val_loss: 1.3354 - val_accuracy: 0.5299\n"
          ]
        }
      ]
    },
    {
      "cell_type": "code",
      "source": [
        "mlp.evaluate(test_fx, test_fy)"
      ],
      "metadata": {
        "colab": {
          "base_uri": "https://localhost:8080/"
        },
        "id": "yNMKWCq61X4w",
        "outputId": "7ccec36d-febe-4439-b579-398ce53d5b8f"
      },
      "execution_count": null,
      "outputs": [
        {
          "output_type": "stream",
          "name": "stdout",
          "text": [
            "313/313 [==============================] - 11s 34ms/step - loss: 1.3354 - accuracy: 0.5299\n"
          ]
        },
        {
          "output_type": "execute_result",
          "data": {
            "text/plain": [
              "[1.3353830575942993, 0.5299000144004822]"
            ]
          },
          "metadata": {},
          "execution_count": 8
        }
      ]
    },
    {
      "cell_type": "code",
      "source": [
        "pred_y = mlp.predict(test_fx)\n",
        "pred_y_r = [np.argmax(element) for element in pred_y]"
      ],
      "metadata": {
        "id": "gsbvR7btDOla"
      },
      "execution_count": null,
      "outputs": []
    },
    {
      "cell_type": "code",
      "source": [
        "confusion = confusion_matrix(y_true=test_fy, y_pred=pred_y_r)\n",
        "confusion"
      ],
      "metadata": {
        "colab": {
          "base_uri": "https://localhost:8080/"
        },
        "id": "5KmOeSgKDWWo",
        "outputId": "01687636-d98a-4fc2-f03e-6459f64c1c5f"
      },
      "execution_count": null,
      "outputs": [
        {
          "output_type": "execute_result",
          "data": {
            "text/plain": [
              "array([[450,  56,  38,  12,  65,  60,  62,  12, 175,  70],\n",
              "       [  8, 697,   1,  13,  12,  23,  28,  12,  61, 145],\n",
              "       [ 39,  18, 194,  53, 158, 218, 239,  38,  19,  24],\n",
              "       [ 10,  22,  17, 205,  74, 369, 222,  23,  22,  36],\n",
              "       [ 13,   8,  25,  22, 472, 123, 263,  36,  25,  13],\n",
              "       [  2,  10,  10,  98,  64, 630, 127,  28,  17,  14],\n",
              "       [  1,  11,   8,  21,  60,  71, 805,   5,   8,  10],\n",
              "       [  9,  13,  12,  30, 124, 163,  78, 507,  18,  46],\n",
              "       [ 36,  69,   8,  20,  26,  32,  26,   6, 724,  53],\n",
              "       [ 10, 164,   2,  17,  17,  37,  45,  24,  69, 615]])"
            ]
          },
          "metadata": {},
          "execution_count": 10
        }
      ]
    },
    {
      "cell_type": "code",
      "source": [
        "classification = classification_report(test_fy,pred_y_r)\n",
        "print(classification)"
      ],
      "metadata": {
        "colab": {
          "base_uri": "https://localhost:8080/"
        },
        "id": "7-RnxCPADagw",
        "outputId": "b2e17015-5470-484b-fdaa-41a00034fca7"
      },
      "execution_count": null,
      "outputs": [
        {
          "output_type": "stream",
          "name": "stdout",
          "text": [
            "              precision    recall  f1-score   support\n",
            "\n",
            "           0       0.78      0.45      0.57      1000\n",
            "           1       0.65      0.70      0.67      1000\n",
            "           2       0.62      0.19      0.30      1000\n",
            "           3       0.42      0.20      0.27      1000\n",
            "           4       0.44      0.47      0.46      1000\n",
            "           5       0.37      0.63      0.46      1000\n",
            "           6       0.42      0.81      0.56      1000\n",
            "           7       0.73      0.51      0.60      1000\n",
            "           8       0.64      0.72      0.68      1000\n",
            "           9       0.60      0.61      0.61      1000\n",
            "\n",
            "    accuracy                           0.53     10000\n",
            "   macro avg       0.57      0.53      0.52     10000\n",
            "weighted avg       0.57      0.53      0.52     10000\n",
            "\n"
          ]
        }
      ]
    },
    {
      "cell_type": "code",
      "source": [
        "loss_train = history.history['accuracy']\n",
        "loss_val = history.history['val_accuracy']\n",
        "epochs = range(1,6)\n",
        "plt.plot(epochs, loss_train, 'g', label='Training accuracy')\n",
        "plt.plot(epochs, loss_val, 'b', label='Validation accuracy')\n",
        "plt.title('Training and Validation accuracy')\n",
        "plt.xlabel('Epochs')\n",
        "plt.ylabel('Accuracy')\n",
        "plt.legend()\n",
        "plt.show()"
      ],
      "metadata": {
        "colab": {
          "base_uri": "https://localhost:8080/",
          "height": 279
        },
        "id": "qaFZNX_wDdgc",
        "outputId": "628cf9d5-7ce7-4737-caa7-32732e65fe1d"
      },
      "execution_count": 15,
      "outputs": [
        {
          "output_type": "display_data",
          "data": {
            "text/plain": [
              "<Figure size 432x288 with 1 Axes>"
            ],
            "image/png": "[encoded data removed]"
          },
          "metadata": {
            "needs_background": "light"
          }
        }
      ]
    },
    {
      "cell_type": "code",
      "source": [
        ""
      ],
      "metadata": {
        "id": "dRb_B3szDhV5"
      },
      "execution_count": null,
      "outputs": []
    }
  ]
}